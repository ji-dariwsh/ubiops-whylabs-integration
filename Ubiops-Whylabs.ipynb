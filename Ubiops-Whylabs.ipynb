{
 "cells": [
  {
   "cell_type": "markdown",
   "metadata": {},
   "source": [
    "# UbiOps / Whylabs\n",
    "This is a cookbook that show cases an example integration between UbiOps and Whylabs. In this cookbook we will train a model, build it and deploy it to the UbiOps environment while at each step of the way using Whylogs to log our data for monitoring and gaining interesting insights."
   ]
  },
  {
   "cell_type": "markdown",
   "metadata": {},
   "source": [
    "## Creating the model\n",
    "This model is based on [this kaggle example](https://www.kaggle.com/cdabakoglu/heart-disease-classifications-machine-learning). It uses the [Heart Disease UCI dataset](https://www.kaggle.com/ronitf/heart-disease-uci).\n",
    "\n",
    "This will be a very simplistic model to classify people into people who have a heart disease and people who do not which could be helpful to predict when you should go to the hospital to get checked or to know to estimate how many doctors will be neede in the staff of a hospital."
   ]
  },
  {
   "cell_type": "markdown",
   "metadata": {},
   "source": [
    "**First we will install our dependencies**"
   ]
  },
  {
   "cell_type": "code",
   "execution_count": null,
   "metadata": {},
   "outputs": [],
   "source": [
    " import sys \n",
    "!{sys.executable} -m pip install -U pip\n",
    "!{sys.executable} -m pip install pandas --user\n",
    "!{sys.executable} -m pip install sklearn --user\n",
    "!{sys.executable} -m pip install whylogs==0.4.7.dev1 --user # Version needed for lib to work"
   ]
  },
  {
   "cell_type": "code",
   "execution_count": null,
   "metadata": {
    "scrolled": false
   },
   "outputs": [],
   "source": [
    "%load model/model.py"
   ]
  },
  {
   "cell_type": "markdown",
   "metadata": {},
   "source": [
    "# #TODO \n",
    "### Add screenshots from the whylabs env for interesting findings when data shows up"
   ]
  },
  {
   "cell_type": "markdown",
   "metadata": {},
   "source": [
    "## Creating UbiOps deployment\n",
    "Now that we have built our model and saved it let's create a ubiops"
   ]
  },
  {
   "cell_type": "markdown",
   "metadata": {},
   "source": [
    "**Let's first authenticate with our UbiOps environment**"
   ]
  },
  {
   "cell_type": "code",
   "execution_count": null,
   "metadata": {},
   "outputs": [],
   "source": [
    "API_TOKEN = \"<API_TOKEN>\" # Make sure this is in the format \"Token token-code\"\n",
    "PROJECT_NAME = \"<PROJECT_NAME>\"\n",
    "DEPLOYMENT_NAME = 'heart-disease-classifier'\n",
    "DEPLOYMENT_VERSION = 'v1'\n",
    "\n",
    "WHYLABS_API_KEY= \"<WHYLABS_API_KEY>\"\n",
    "WHYLABS_DEFAULT_ORG_ID = \"<WHYLABS_DEFAULT_ORG_ID>\"\n",
    "WHYLABS_DEFAULT_DATASET_ID = \"<WHYLABS_DEFAULT_DATASET_ID>\"\n",
    "\n",
    "# Import all necessary libraries\n",
    "import shutil\n",
    "import os\n",
    "import ubiops\n",
    "\n",
    "client = ubiops.ApiClient(ubiops.Configuration(api_key={'Authorization': API_TOKEN}, \n",
    "                                               host='https://api.ubiops.com/v2.1'))\n",
    "api = ubiops.CoreApi(client)"
   ]
  },
  {
   "cell_type": "markdown",
   "metadata": {},
   "source": [
    "**Create the deployment**"
   ]
  },
  {
   "cell_type": "code",
   "execution_count": null,
   "metadata": {},
   "outputs": [],
   "source": [
    "%load deployment_folder/deployment.py"
   ]
  },
  {
   "cell_type": "markdown",
   "metadata": {},
   "source": [
    "**Deploy to our UbiOps environment**"
   ]
  },
  {
   "cell_type": "code",
   "execution_count": null,
   "metadata": {},
   "outputs": [],
   "source": [
    "# Create the deployment\n",
    "deployment_template = ubiops.DeploymentCreate(\n",
    "    name=DEPLOYMENT_NAME,\n",
    "    description='Heart Disease classification',\n",
    "    input_type='structured',\n",
    "    output_type='structured',\n",
    "    input_fields=[\n",
    "        ubiops.DeploymentInputFieldCreate(\n",
    "            name='data',\n",
    "            data_type='blob',\n",
    "        ),\n",
    "    ],\n",
    "    output_fields=[\n",
    "        ubiops.DeploymentOutputFieldCreate(\n",
    "            name='prediction',\n",
    "            data_type='blob'\n",
    "        ),\n",
    "    ],\n",
    "    labels={\"demo\": \"whylabs\"}\n",
    ")\n",
    "\n",
    "api.deployments_create(\n",
    "    project_name=PROJECT_NAME,\n",
    "    data=deployment_template\n",
    ")\n",
    "\n",
    "# Create the version\n",
    "version_template = ubiops.DeploymentVersionCreate(\n",
    "    version=DEPLOYMENT_VERSION,\n",
    "    language='python3.6',\n",
    "    memory_allocation=512,\n",
    "    minimum_instances=0,\n",
    "    maximum_instances=1,\n",
    "    maximum_idle_time=1800 # = 30 minutes\n",
    ")\n",
    "\n",
    "api.deployment_versions_create(\n",
    "    project_name=PROJECT_NAME,\n",
    "    deployment_name=DEPLOYMENT_NAME,\n",
    "    data=version_template\n",
    ")\n",
    "\n",
    "# Create environment variables for whylabs\n",
    "api.deployment_environment_variables_create(\n",
    "    project_name=PROJECT_NAME,\n",
    "    deployment_name=DEPLOYMENT_NAME,\n",
    "    data=ubiops.EnvironmentVariableCreate(\n",
    "        name=\"WHYLABS_API_KEY\",\n",
    "        value=WHYLABS_API_KEY,\n",
    "        secret=True\n",
    "    )\n",
    ")\n",
    "\n",
    "api.deployment_environment_variables_create(\n",
    "    project_name=PROJECT_NAME,\n",
    "    deployment_name=DEPLOYMENT_NAME,\n",
    "    data=ubiops.EnvironmentVariableCreate(\n",
    "        name=\"WHYLABS_DEFAULT_ORG_ID\",\n",
    "        value=WHYLABS_DEFAULT_ORG_ID,\n",
    "        secret=True\n",
    "    )\n",
    ")\n",
    "\n",
    "api.deployment_environment_variables_create(\n",
    "    project_name=PROJECT_NAME,\n",
    "    deployment_name=DEPLOYMENT_NAME,\n",
    "    data=ubiops.EnvironmentVariableCreate(\n",
    "        name=\"WHYLABS_DEFAULT_DATASET_ID\",\n",
    "        value=WHYLABS_DEFAULT_DATASET_ID,\n",
    "        secret=True\n",
    "    )\n",
    ")\n",
    "\n",
    "# Zip the deployment package\n",
    "shutil.make_archive('deployment_folder', 'zip', '.', 'deployment_folder')\n",
    "\n",
    "# Upload the zipped deployment package\n",
    "file_upload_result =api.revisions_file_upload(\n",
    "    project_name=PROJECT_NAME,\n",
    "    deployment_name=DEPLOYMENT_NAME,\n",
    "    version=DEPLOYMENT_VERSION,\n",
    "    file='deployment_folder.zip'\n",
    ")"
   ]
  },
  {
   "cell_type": "markdown",
   "metadata": {},
   "source": [
    "## Conclusion\n",
    "We have now trained a model, used whylabs in the process to gain some insight into our training data, saved the AI model file and used it to create a deployment in our UbiOps environment which is now ready to receive requests and logs each request data to whylabs so you can spot the kind of data coming in and be able to improve on your model in the future."
   ]
  }
 ],
 "metadata": {
  "kernelspec": {
   "display_name": "Python 3",
   "language": "python",
   "name": "python3"
  },
  "language_info": {
   "codemirror_mode": {
    "name": "ipython",
    "version": 3
   },
   "file_extension": ".py",
   "mimetype": "text/x-python",
   "name": "python",
   "nbconvert_exporter": "python",
   "pygments_lexer": "ipython3",
   "version": "3.6.9"
  }
 },
 "nbformat": 4,
 "nbformat_minor": 5
}
